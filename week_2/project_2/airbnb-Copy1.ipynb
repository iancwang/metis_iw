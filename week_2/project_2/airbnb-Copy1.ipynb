{
 "cells": [
  {
   "cell_type": "code",
   "execution_count": 129,
   "metadata": {},
   "outputs": [],
   "source": [
    "from __future__ import print_function, division\n",
    "import requests\n",
    "from bs4 import BeautifulSoup\n",
    "from selenium import webdriver\n",
    "from selenium.webdriver.common.keys import Keys\n",
    "import time\n",
    "import os\n",
    "import re"
   ]
  },
  {
   "cell_type": "code",
   "execution_count": 130,
   "metadata": {},
   "outputs": [],
   "source": [
    "chromedriver = \"/Users/iancwang/Downloads/chromedriver\" # path to the chromedriver executable\n",
    "os.environ[\"webdriver.chrome.driver\"] = chromedriver\n",
    "\n",
    "driver = webdriver.Chrome(chromedriver)\n",
    "\n",
    "url = 'https://www.airbnb.com/rooms/15776053'\n",
    "\n",
    "# https://www.airbnb.com/rooms/15776053\n",
    "# https://www.airbnb.com/rooms/8302173\n",
    "    \n",
    "driver.get(url)"
   ]
  },
  {
   "cell_type": "code",
   "execution_count": 131,
   "metadata": {},
   "outputs": [],
   "source": [
    "amenities = driver.find_element_by_xpath('//*[@id=\"room\"]/div[3]/div/div[2]/div[1]/div/div/div[4]/div/div/div/section/div[3]/div/button/span')\n",
    "amenities.click()\n",
    "some_html = driver.find_element_by_xpath('//html').get_attribute('innerHTML');\n",
    "soup = BeautifulSoup(some_html, 'html.parser')\n",
    "#print(soup.prettify())"
   ]
  },
  {
   "cell_type": "code",
   "execution_count": 132,
   "metadata": {},
   "outputs": [],
   "source": [
    "#parse listing ID in URL to use as html file name\n",
    "\n",
    "urlid= re.findall('[/]\\d*', url)\n",
    "urlid= urlid[3]\n",
    "urlid=urlid.strip('/')"
   ]
  },
  {
   "cell_type": "code",
   "execution_count": 133,
   "metadata": {},
   "outputs": [],
   "source": [
    "#Create file for using listing ID:\n",
    "\n",
    "f = open('{}.txt'.format(urlid),'w')\n",
    "f.write(some_html)\n",
    "f.close()"
   ]
  },
  {
   "cell_type": "code",
   "execution_count": 134,
   "metadata": {},
   "outputs": [],
   "source": [
    "#Create Dictionary\n",
    "\n",
    "listing_info = {}\n",
    "key_id = ('{}'.format(urlid))\n"
   ]
  },
  {
   "cell_type": "code",
   "execution_count": 135,
   "metadata": {},
   "outputs": [],
   "source": [
    "#Insert id\n",
    "\n",
    "listing_info['id'] = key_id"
   ]
  },
  {
   "cell_type": "code",
   "execution_count": 136,
   "metadata": {},
   "outputs": [],
   "source": [
    "#Select Listing Title\n",
    "\n",
    "title = soup.find('title').text\n",
    "\n",
    "listing_info['title'] = title"
   ]
  },
  {
   "cell_type": "code",
   "execution_count": 137,
   "metadata": {},
   "outputs": [
    {
     "data": {
      "text/plain": [
       "{'id': '15776053',\n",
       " 'title': 'Stunning Views - Queen Anne apt with Free Parking - Apartments for Rent in Seattle, Washington, United States',\n",
       " 'prop_type': 'Entire apartment'}"
      ]
     },
     "execution_count": 137,
     "metadata": {},
     "output_type": "execute_result"
    }
   ],
   "source": [
    "#Select property_type\n",
    "\n",
    "property_type = soup.find('span', {'class' : '_bt56vz6'})\n",
    "#type(property_type)\n",
    "\n",
    "# for i in property_type.children:\n",
    "#     print(i)\n",
    "    \n",
    "for i in property_type.descendants:\n",
    "    i = i\n",
    "listing_info['prop_type'] = i\n",
    "\n",
    "listing_info"
   ]
  },
  {
   "cell_type": "code",
   "execution_count": 138,
   "metadata": {},
   "outputs": [
    {
     "data": {
      "text/plain": [
       "{'id': '15776053',\n",
       " 'title': 'Stunning Views - Queen Anne apt with Free Parking - Apartments for Rent in Seattle, Washington, United States',\n",
       " 'prop_type': 'Entire apartment',\n",
       " 'main_city': 'Seattle'}"
      ]
     },
     "execution_count": 138,
     "metadata": {},
     "output_type": "execute_result"
    }
   ],
   "source": [
    "#Select main city\n",
    "\n",
    "maincity = soup.find('div', {'class' : '_m7iebup'})\n",
    "\n",
    "for i in maincity.descendants:\n",
    "    i = i\n",
    "    \n",
    "listing_info['main_city'] = i\n",
    "\n",
    "listing_info\n"
   ]
  },
  {
   "cell_type": "code",
   "execution_count": 139,
   "metadata": {},
   "outputs": [],
   "source": [
    "# Select property_type\n",
    "# guests = soup.find('span', {'class' : '_y8ard79'})\n",
    "# for i in guests.descendants:\n",
    "#     i = i\n",
    "# guest_num = i.split(' ')\n",
    "# listing_info['guests'] = int(guest_num[0])\n",
    "# listing_info"
   ]
  },
  {
   "cell_type": "code",
   "execution_count": 140,
   "metadata": {},
   "outputs": [
    {
     "data": {
      "text/plain": [
       "{'id': '15776053',\n",
       " 'title': 'Stunning Views - Queen Anne apt with Free Parking - Apartments for Rent in Seattle, Washington, United States',\n",
       " 'prop_type': 'Entire apartment',\n",
       " 'main_city': 'Seattle',\n",
       " 'guests_num': '3 guests',\n",
       " 'bedroom_num': '1 bedroom',\n",
       " 'bed_num': '2 beds',\n",
       " 'bath_num': '1 bath'}"
      ]
     },
     "execution_count": 140,
     "metadata": {},
     "output_type": "execute_result"
    }
   ],
   "source": [
    "#Select Number of guests, bedroom, bed and bath\n",
    "\n",
    "#num_room = soup.findAll('span', {'class' : '_y8ard79'})\n",
    "speclist = []\n",
    "for line in soup.findAll('span', {'class' : '_y8ard79'}):\n",
    "    value = line.text\n",
    "    speclist.append(value)\n",
    "\n",
    "guests_num = speclist[0]\n",
    "listing_info['guests_num'] = guests_num\n",
    "\n",
    "\n",
    "bedroom_num = speclist[1]\n",
    "listing_info['bedroom_num'] = bedroom_num\n",
    "\n",
    "\n",
    "bed_num = speclist[2]\n",
    "listing_info['bed_num'] = bed_num\n",
    "\n",
    "\n",
    "bath_num = speclist[3]\n",
    "listing_info['bath_num'] = bath_num\n",
    "\n",
    "listing_info\n",
    "#     if line.text is not None:\n",
    "#         print(line[0].text)\n",
    "#         print(line)\n",
    "    \n",
    "#     i = i.split('')\n",
    "#     print(i)\n",
    "#guest_num = i.split(' ')\n",
    "# listing_info['guests'] = int(guest_num[0])\n",
    "# listing_info"
   ]
  },
  {
   "cell_type": "code",
   "execution_count": 141,
   "metadata": {},
   "outputs": [
    {
     "data": {
      "text/plain": [
       "{'id': '15776053',\n",
       " 'title': 'Stunning Views - Queen Anne apt with Free Parking - Apartments for Rent in Seattle, Washington, United States',\n",
       " 'prop_type': 'Entire apartment',\n",
       " 'main_city': 'Seattle',\n",
       " 'guests_num': '3 guests',\n",
       " 'bedroom_num': '1 bedroom',\n",
       " 'bed_num': '2 beds',\n",
       " 'bath_num': '1 bath',\n",
       " 'baseprice': 72}"
      ]
     },
     "execution_count": 141,
     "metadata": {},
     "output_type": "execute_result"
    }
   ],
   "source": [
    "#Select base $\n",
    "\n",
    "baseprice = soup.find('span', {'class' : '_10cqp947'})\n",
    "\n",
    "baseprice = baseprice.text.split('$')\n",
    "\n",
    "listing_info['baseprice'] = int(baseprice[1])\n",
    "\n",
    "listing_info"
   ]
  },
  {
   "cell_type": "code",
   "execution_count": 148,
   "metadata": {},
   "outputs": [
    {
     "data": {
      "text/plain": [
       "{'id': '15776053',\n",
       " 'title': 'Stunning Views - Queen Anne apt with Free Parking - Apartments for Rent in Seattle, Washington, United States',\n",
       " 'prop_type': 'Entire apartment',\n",
       " 'main_city': 'Seattle',\n",
       " 'guests_num': '3 guests',\n",
       " 'bedroom_num': '1 bedroom',\n",
       " 'bed_num': '2 beds',\n",
       " 'bath_num': '1 bath',\n",
       " 'baseprice': 72,\n",
       " 'review': 152,\n",
       " 'amenities': 'Wifi;Cable TV;Dryer;Laptop friendly workspace;Washer;TV;Iron;Essentials;Heating;Hot water;Pack ’n Play/travel crib;Free parking on premises;Single level home;Kitchen;Coffee maker;Cooking basics;Dishes and silverware;Microwave;Refrigerator;Oven;Stove;Keypad;Private entrance;Hangers;Hair dryer;Shampoo;Garden or backyard;Smoke detector;Fire extinguisher;Carbon monoxide detector;First aid kit',\n",
       " 'rules': 'No smoking;Not suitable for pets;No parties or events;Check-in time is 3PM - 2AM (next day);Check out by 11AM;Self check-in with keypad;This is Karl’s place.;Arlene helps host.'}"
      ]
     },
     "execution_count": 148,
     "metadata": {},
     "output_type": "execute_result"
    }
   ],
   "source": [
    "#Select number of reviews\n",
    "\n",
    "review = soup.find('span', {'class' : '_1vbkutid'})\n",
    "\n",
    "review = review.text.split()\n",
    "\n",
    "listing_info['review'] = int(review[0])\n",
    "\n",
    "listing_info"
   ]
  },
  {
   "cell_type": "code",
   "execution_count": 149,
   "metadata": {},
   "outputs": [
    {
     "ename": "NoSuchElementException",
     "evalue": "Message: no such element: Unable to locate element: {\"method\":\"xpath\",\"selector\":\"/html/body/div[13]/div/div/div/div/div/div/div/section/div/div/button\"}\n  (Session info: chrome=65.0.3325.181)\n  (Driver info: chromedriver=2.37.544337 (8c0344a12e552148c185f7d5117db1f28d6c9e85),platform=Mac OS X 10.13.4 x86_64)\n",
     "output_type": "error",
     "traceback": [
      "\u001b[0;31m---------------------------------------------------------------------------\u001b[0m",
      "\u001b[0;31mNoSuchElementException\u001b[0m                    Traceback (most recent call last)",
      "\u001b[0;32m<ipython-input-149-70eec292f455>\u001b[0m in \u001b[0;36m<module>\u001b[0;34m()\u001b[0m\n\u001b[1;32m     13\u001b[0m \u001b[0;31m#close the amenities listing\u001b[0m\u001b[0;34m\u001b[0m\u001b[0;34m\u001b[0m\u001b[0m\n\u001b[1;32m     14\u001b[0m \u001b[0;34m\u001b[0m\u001b[0m\n\u001b[0;32m---> 15\u001b[0;31m \u001b[0mclose_page\u001b[0m \u001b[0;34m=\u001b[0m \u001b[0mdriver\u001b[0m\u001b[0;34m.\u001b[0m\u001b[0mfind_element_by_xpath\u001b[0m\u001b[0;34m(\u001b[0m\u001b[0;34m'/html/body/div[13]/div/div/div/div/div/div/div/section/div/div/button'\u001b[0m\u001b[0;34m)\u001b[0m\u001b[0;34m\u001b[0m\u001b[0m\n\u001b[0m\u001b[1;32m     16\u001b[0m \u001b[0mclose_page\u001b[0m\u001b[0;34m.\u001b[0m\u001b[0mclick\u001b[0m\u001b[0;34m(\u001b[0m\u001b[0;34m)\u001b[0m\u001b[0;34m\u001b[0m\u001b[0m\n\u001b[1;32m     17\u001b[0m \u001b[0;34m\u001b[0m\u001b[0m\n",
      "\u001b[0;32m/anaconda3/lib/python3.6/site-packages/selenium/webdriver/remote/webdriver.py\u001b[0m in \u001b[0;36mfind_element_by_xpath\u001b[0;34m(self, xpath)\u001b[0m\n\u001b[1;32m    383\u001b[0m             \u001b[0melement\u001b[0m \u001b[0;34m=\u001b[0m \u001b[0mdriver\u001b[0m\u001b[0;34m.\u001b[0m\u001b[0mfind_element_by_xpath\u001b[0m\u001b[0;34m(\u001b[0m\u001b[0;34m'//div/td[1]'\u001b[0m\u001b[0;34m)\u001b[0m\u001b[0;34m\u001b[0m\u001b[0m\n\u001b[1;32m    384\u001b[0m         \"\"\"\n\u001b[0;32m--> 385\u001b[0;31m         \u001b[0;32mreturn\u001b[0m \u001b[0mself\u001b[0m\u001b[0;34m.\u001b[0m\u001b[0mfind_element\u001b[0m\u001b[0;34m(\u001b[0m\u001b[0mby\u001b[0m\u001b[0;34m=\u001b[0m\u001b[0mBy\u001b[0m\u001b[0;34m.\u001b[0m\u001b[0mXPATH\u001b[0m\u001b[0;34m,\u001b[0m \u001b[0mvalue\u001b[0m\u001b[0;34m=\u001b[0m\u001b[0mxpath\u001b[0m\u001b[0;34m)\u001b[0m\u001b[0;34m\u001b[0m\u001b[0m\n\u001b[0m\u001b[1;32m    386\u001b[0m \u001b[0;34m\u001b[0m\u001b[0m\n\u001b[1;32m    387\u001b[0m     \u001b[0;32mdef\u001b[0m \u001b[0mfind_elements_by_xpath\u001b[0m\u001b[0;34m(\u001b[0m\u001b[0mself\u001b[0m\u001b[0;34m,\u001b[0m \u001b[0mxpath\u001b[0m\u001b[0;34m)\u001b[0m\u001b[0;34m:\u001b[0m\u001b[0;34m\u001b[0m\u001b[0m\n",
      "\u001b[0;32m/anaconda3/lib/python3.6/site-packages/selenium/webdriver/remote/webdriver.py\u001b[0m in \u001b[0;36mfind_element\u001b[0;34m(self, by, value)\u001b[0m\n\u001b[1;32m    953\u001b[0m         return self.execute(Command.FIND_ELEMENT, {\n\u001b[1;32m    954\u001b[0m             \u001b[0;34m'using'\u001b[0m\u001b[0;34m:\u001b[0m \u001b[0mby\u001b[0m\u001b[0;34m,\u001b[0m\u001b[0;34m\u001b[0m\u001b[0m\n\u001b[0;32m--> 955\u001b[0;31m             'value': value})['value']\n\u001b[0m\u001b[1;32m    956\u001b[0m \u001b[0;34m\u001b[0m\u001b[0m\n\u001b[1;32m    957\u001b[0m     \u001b[0;32mdef\u001b[0m \u001b[0mfind_elements\u001b[0m\u001b[0;34m(\u001b[0m\u001b[0mself\u001b[0m\u001b[0;34m,\u001b[0m \u001b[0mby\u001b[0m\u001b[0;34m=\u001b[0m\u001b[0mBy\u001b[0m\u001b[0;34m.\u001b[0m\u001b[0mID\u001b[0m\u001b[0;34m,\u001b[0m \u001b[0mvalue\u001b[0m\u001b[0;34m=\u001b[0m\u001b[0;32mNone\u001b[0m\u001b[0;34m)\u001b[0m\u001b[0;34m:\u001b[0m\u001b[0;34m\u001b[0m\u001b[0m\n",
      "\u001b[0;32m/anaconda3/lib/python3.6/site-packages/selenium/webdriver/remote/webdriver.py\u001b[0m in \u001b[0;36mexecute\u001b[0;34m(self, driver_command, params)\u001b[0m\n\u001b[1;32m    310\u001b[0m         \u001b[0mresponse\u001b[0m \u001b[0;34m=\u001b[0m \u001b[0mself\u001b[0m\u001b[0;34m.\u001b[0m\u001b[0mcommand_executor\u001b[0m\u001b[0;34m.\u001b[0m\u001b[0mexecute\u001b[0m\u001b[0;34m(\u001b[0m\u001b[0mdriver_command\u001b[0m\u001b[0;34m,\u001b[0m \u001b[0mparams\u001b[0m\u001b[0;34m)\u001b[0m\u001b[0;34m\u001b[0m\u001b[0m\n\u001b[1;32m    311\u001b[0m         \u001b[0;32mif\u001b[0m \u001b[0mresponse\u001b[0m\u001b[0;34m:\u001b[0m\u001b[0;34m\u001b[0m\u001b[0m\n\u001b[0;32m--> 312\u001b[0;31m             \u001b[0mself\u001b[0m\u001b[0;34m.\u001b[0m\u001b[0merror_handler\u001b[0m\u001b[0;34m.\u001b[0m\u001b[0mcheck_response\u001b[0m\u001b[0;34m(\u001b[0m\u001b[0mresponse\u001b[0m\u001b[0;34m)\u001b[0m\u001b[0;34m\u001b[0m\u001b[0m\n\u001b[0m\u001b[1;32m    313\u001b[0m             response['value'] = self._unwrap_value(\n\u001b[1;32m    314\u001b[0m                 response.get('value', None))\n",
      "\u001b[0;32m/anaconda3/lib/python3.6/site-packages/selenium/webdriver/remote/errorhandler.py\u001b[0m in \u001b[0;36mcheck_response\u001b[0;34m(self, response)\u001b[0m\n\u001b[1;32m    240\u001b[0m                 \u001b[0malert_text\u001b[0m \u001b[0;34m=\u001b[0m \u001b[0mvalue\u001b[0m\u001b[0;34m[\u001b[0m\u001b[0;34m'alert'\u001b[0m\u001b[0;34m]\u001b[0m\u001b[0;34m.\u001b[0m\u001b[0mget\u001b[0m\u001b[0;34m(\u001b[0m\u001b[0;34m'text'\u001b[0m\u001b[0;34m)\u001b[0m\u001b[0;34m\u001b[0m\u001b[0m\n\u001b[1;32m    241\u001b[0m             \u001b[0;32mraise\u001b[0m \u001b[0mexception_class\u001b[0m\u001b[0;34m(\u001b[0m\u001b[0mmessage\u001b[0m\u001b[0;34m,\u001b[0m \u001b[0mscreen\u001b[0m\u001b[0;34m,\u001b[0m \u001b[0mstacktrace\u001b[0m\u001b[0;34m,\u001b[0m \u001b[0malert_text\u001b[0m\u001b[0;34m)\u001b[0m\u001b[0;34m\u001b[0m\u001b[0m\n\u001b[0;32m--> 242\u001b[0;31m         \u001b[0;32mraise\u001b[0m \u001b[0mexception_class\u001b[0m\u001b[0;34m(\u001b[0m\u001b[0mmessage\u001b[0m\u001b[0;34m,\u001b[0m \u001b[0mscreen\u001b[0m\u001b[0;34m,\u001b[0m \u001b[0mstacktrace\u001b[0m\u001b[0;34m)\u001b[0m\u001b[0;34m\u001b[0m\u001b[0m\n\u001b[0m\u001b[1;32m    243\u001b[0m \u001b[0;34m\u001b[0m\u001b[0m\n\u001b[1;32m    244\u001b[0m     \u001b[0;32mdef\u001b[0m \u001b[0m_value_or_default\u001b[0m\u001b[0;34m(\u001b[0m\u001b[0mself\u001b[0m\u001b[0;34m,\u001b[0m \u001b[0mobj\u001b[0m\u001b[0;34m,\u001b[0m \u001b[0mkey\u001b[0m\u001b[0;34m,\u001b[0m \u001b[0mdefault\u001b[0m\u001b[0;34m)\u001b[0m\u001b[0;34m:\u001b[0m\u001b[0;34m\u001b[0m\u001b[0m\n",
      "\u001b[0;31mNoSuchElementException\u001b[0m: Message: no such element: Unable to locate element: {\"method\":\"xpath\",\"selector\":\"/html/body/div[13]/div/div/div/div/div/div/div/section/div/div/button\"}\n  (Session info: chrome=65.0.3325.181)\n  (Driver info: chromedriver=2.37.544337 (8c0344a12e552148c185f7d5117db1f28d6c9e85),platform=Mac OS X 10.13.4 x86_64)\n"
     ]
    }
   ],
   "source": [
    "#Select Amenities\n",
    "amenitieslst = []\n",
    "for line in soup.findAll('div', {'class' : '_rotqmn2'}):\n",
    "    line = line.text\n",
    "    amenitieslst.append(line)\n",
    "    \n",
    "del amenitieslst[0]\n",
    "\n",
    "amenitieslst[:] = [\";\".join(amenitieslst[:])]\n",
    "\n",
    "listing_info['amenities'] = amenitieslst[0]\n",
    "\n",
    "#close the amenities listing\n",
    "\n",
    "close_page = driver.find_element_by_xpath('/html/body/div[13]/div/div/div/div/div/div/div/section/div/div/button')\n",
    "close_page.click()\n",
    "\n",
    "listing_info"
   ]
  },
  {
   "cell_type": "code",
   "execution_count": 144,
   "metadata": {},
   "outputs": [
    {
     "data": {
      "text/plain": [
       "['Centrally located, an ideal home for your stay in SeattleLight filled wall of windows frames a spectacular mountain & water view! ',\n",
       " '*Free reserved parking*Full kitchen*Beautiful Hardwood Floors*Spacious living/dining area and separate br *Walk 2 blocks to great breakfast & coffee shop & bus stop; 5 blks to Whole Foods & transit line*5 minutes to Seattle Center, Myrtle Edwards Park, Seattle Pac Univ, Interbay Golf*Easy access to Downtown, I-5, Ferries, Stadiums, Ballard, Fremont',\n",
       " \"Just a couple of blocks away is a fantastic little breakfast and sandwich shop, as well as a coffee shop.  You are also walking distance to Whole Foods and a golf course that includes a heated driving range and mini-golf!  A short hop from both the Smith Cove Cruise Terminal and Elliott Bay Marina if you happen to be traveling by boat!   A 15-20 minute walk (or 5 minute drive) to the top of Queen Anne with a fantastic selection of great restaurants, bars & shops.  On the way you can stop at Kerry Park to take in the most famous view of the city!   A quick bus ride and you'll be to lower Queen Anne where the Space Needle and other iconic attractions are located. For some outdoor, in-city walking/hiking, or just taking in the incredible views, Myrtle Edwards Park (also great for biking!!) and Discovery Park (largest public park with almost 12 miles of trails) are also close by.  We love our neighborhood and think you will too!\"]"
      ]
     },
     "execution_count": 144,
     "metadata": {},
     "output_type": "execute_result"
    }
   ],
   "source": [
    "#Select summary\n",
    "\n",
    "summarylst = []\n",
    "summarylst_new = []\n",
    "for line in soup.findAll('p', {'class' : '_6z3til'}):\n",
    "    line = line.text\n",
    "    summarylst.append(line)\n",
    "for line_new in summarylst:\n",
    "    line_new.rstrip(\" \")\n",
    "    summarylst_new.append(line_new)\n",
    "\n",
    "summarylst_new\n",
    "\n"
   ]
  },
  {
   "cell_type": "code",
   "execution_count": 147,
   "metadata": {},
   "outputs": [
    {
     "ename": "WebDriverException",
     "evalue": "Message: unknown error: Element <span>...</span> is not clickable at point (94, 858). Other element would receive the click: <span>...</span>\n  (Session info: chrome=65.0.3325.181)\n  (Driver info: chromedriver=2.37.544337 (8c0344a12e552148c185f7d5117db1f28d6c9e85),platform=Mac OS X 10.13.4 x86_64)\n",
     "output_type": "error",
     "traceback": [
      "\u001b[0;31m---------------------------------------------------------------------------\u001b[0m",
      "\u001b[0;31mWebDriverException\u001b[0m                        Traceback (most recent call last)",
      "\u001b[0;32m<ipython-input-147-0914e538b04b>\u001b[0m in \u001b[0;36m<module>\u001b[0;34m()\u001b[0m\n\u001b[1;32m      2\u001b[0m \u001b[0;34m\u001b[0m\u001b[0m\n\u001b[1;32m      3\u001b[0m \u001b[0mreadmoreaboutspace\u001b[0m \u001b[0;34m=\u001b[0m \u001b[0mdriver\u001b[0m\u001b[0;34m.\u001b[0m\u001b[0mfind_element_by_xpath\u001b[0m\u001b[0;34m(\u001b[0m\u001b[0;34m'//*[@id=\"details\"]/div/div[2]/div/div[2]/div/button/div/div[1]/span'\u001b[0m\u001b[0;34m)\u001b[0m\u001b[0;34m\u001b[0m\u001b[0m\n\u001b[0;32m----> 4\u001b[0;31m \u001b[0mreadmoreaboutspace\u001b[0m\u001b[0;34m.\u001b[0m\u001b[0mclick\u001b[0m\u001b[0;34m(\u001b[0m\u001b[0;34m)\u001b[0m\u001b[0;34m\u001b[0m\u001b[0m\n\u001b[0m\u001b[1;32m      5\u001b[0m \u001b[0msome_html\u001b[0m \u001b[0;34m=\u001b[0m \u001b[0mdriver\u001b[0m\u001b[0;34m.\u001b[0m\u001b[0mfind_element_by_xpath\u001b[0m\u001b[0;34m(\u001b[0m\u001b[0;34m'//html'\u001b[0m\u001b[0;34m)\u001b[0m\u001b[0;34m.\u001b[0m\u001b[0mget_attribute\u001b[0m\u001b[0;34m(\u001b[0m\u001b[0;34m'innerHTML'\u001b[0m\u001b[0;34m)\u001b[0m\u001b[0;34m;\u001b[0m\u001b[0;34m\u001b[0m\u001b[0m\n\u001b[1;32m      6\u001b[0m \u001b[0msoup\u001b[0m \u001b[0;34m=\u001b[0m \u001b[0mBeautifulSoup\u001b[0m\u001b[0;34m(\u001b[0m\u001b[0msome_html\u001b[0m\u001b[0;34m,\u001b[0m \u001b[0;34m'html.parser'\u001b[0m\u001b[0;34m)\u001b[0m\u001b[0;34m\u001b[0m\u001b[0m\n",
      "\u001b[0;32m/anaconda3/lib/python3.6/site-packages/selenium/webdriver/remote/webelement.py\u001b[0m in \u001b[0;36mclick\u001b[0;34m(self)\u001b[0m\n\u001b[1;32m     78\u001b[0m     \u001b[0;32mdef\u001b[0m \u001b[0mclick\u001b[0m\u001b[0;34m(\u001b[0m\u001b[0mself\u001b[0m\u001b[0;34m)\u001b[0m\u001b[0;34m:\u001b[0m\u001b[0;34m\u001b[0m\u001b[0m\n\u001b[1;32m     79\u001b[0m         \u001b[0;34m\"\"\"Clicks the element.\"\"\"\u001b[0m\u001b[0;34m\u001b[0m\u001b[0m\n\u001b[0;32m---> 80\u001b[0;31m         \u001b[0mself\u001b[0m\u001b[0;34m.\u001b[0m\u001b[0m_execute\u001b[0m\u001b[0;34m(\u001b[0m\u001b[0mCommand\u001b[0m\u001b[0;34m.\u001b[0m\u001b[0mCLICK_ELEMENT\u001b[0m\u001b[0;34m)\u001b[0m\u001b[0;34m\u001b[0m\u001b[0m\n\u001b[0m\u001b[1;32m     81\u001b[0m \u001b[0;34m\u001b[0m\u001b[0m\n\u001b[1;32m     82\u001b[0m     \u001b[0;32mdef\u001b[0m \u001b[0msubmit\u001b[0m\u001b[0;34m(\u001b[0m\u001b[0mself\u001b[0m\u001b[0;34m)\u001b[0m\u001b[0;34m:\u001b[0m\u001b[0;34m\u001b[0m\u001b[0m\n",
      "\u001b[0;32m/anaconda3/lib/python3.6/site-packages/selenium/webdriver/remote/webelement.py\u001b[0m in \u001b[0;36m_execute\u001b[0;34m(self, command, params)\u001b[0m\n\u001b[1;32m    626\u001b[0m             \u001b[0mparams\u001b[0m \u001b[0;34m=\u001b[0m \u001b[0;34m{\u001b[0m\u001b[0;34m}\u001b[0m\u001b[0;34m\u001b[0m\u001b[0m\n\u001b[1;32m    627\u001b[0m         \u001b[0mparams\u001b[0m\u001b[0;34m[\u001b[0m\u001b[0;34m'id'\u001b[0m\u001b[0;34m]\u001b[0m \u001b[0;34m=\u001b[0m \u001b[0mself\u001b[0m\u001b[0;34m.\u001b[0m\u001b[0m_id\u001b[0m\u001b[0;34m\u001b[0m\u001b[0m\n\u001b[0;32m--> 628\u001b[0;31m         \u001b[0;32mreturn\u001b[0m \u001b[0mself\u001b[0m\u001b[0;34m.\u001b[0m\u001b[0m_parent\u001b[0m\u001b[0;34m.\u001b[0m\u001b[0mexecute\u001b[0m\u001b[0;34m(\u001b[0m\u001b[0mcommand\u001b[0m\u001b[0;34m,\u001b[0m \u001b[0mparams\u001b[0m\u001b[0;34m)\u001b[0m\u001b[0;34m\u001b[0m\u001b[0m\n\u001b[0m\u001b[1;32m    629\u001b[0m \u001b[0;34m\u001b[0m\u001b[0m\n\u001b[1;32m    630\u001b[0m     \u001b[0;32mdef\u001b[0m \u001b[0mfind_element\u001b[0m\u001b[0;34m(\u001b[0m\u001b[0mself\u001b[0m\u001b[0;34m,\u001b[0m \u001b[0mby\u001b[0m\u001b[0;34m=\u001b[0m\u001b[0mBy\u001b[0m\u001b[0;34m.\u001b[0m\u001b[0mID\u001b[0m\u001b[0;34m,\u001b[0m \u001b[0mvalue\u001b[0m\u001b[0;34m=\u001b[0m\u001b[0;32mNone\u001b[0m\u001b[0;34m)\u001b[0m\u001b[0;34m:\u001b[0m\u001b[0;34m\u001b[0m\u001b[0m\n",
      "\u001b[0;32m/anaconda3/lib/python3.6/site-packages/selenium/webdriver/remote/webdriver.py\u001b[0m in \u001b[0;36mexecute\u001b[0;34m(self, driver_command, params)\u001b[0m\n\u001b[1;32m    310\u001b[0m         \u001b[0mresponse\u001b[0m \u001b[0;34m=\u001b[0m \u001b[0mself\u001b[0m\u001b[0;34m.\u001b[0m\u001b[0mcommand_executor\u001b[0m\u001b[0;34m.\u001b[0m\u001b[0mexecute\u001b[0m\u001b[0;34m(\u001b[0m\u001b[0mdriver_command\u001b[0m\u001b[0;34m,\u001b[0m \u001b[0mparams\u001b[0m\u001b[0;34m)\u001b[0m\u001b[0;34m\u001b[0m\u001b[0m\n\u001b[1;32m    311\u001b[0m         \u001b[0;32mif\u001b[0m \u001b[0mresponse\u001b[0m\u001b[0;34m:\u001b[0m\u001b[0;34m\u001b[0m\u001b[0m\n\u001b[0;32m--> 312\u001b[0;31m             \u001b[0mself\u001b[0m\u001b[0;34m.\u001b[0m\u001b[0merror_handler\u001b[0m\u001b[0;34m.\u001b[0m\u001b[0mcheck_response\u001b[0m\u001b[0;34m(\u001b[0m\u001b[0mresponse\u001b[0m\u001b[0;34m)\u001b[0m\u001b[0;34m\u001b[0m\u001b[0m\n\u001b[0m\u001b[1;32m    313\u001b[0m             response['value'] = self._unwrap_value(\n\u001b[1;32m    314\u001b[0m                 response.get('value', None))\n",
      "\u001b[0;32m/anaconda3/lib/python3.6/site-packages/selenium/webdriver/remote/errorhandler.py\u001b[0m in \u001b[0;36mcheck_response\u001b[0;34m(self, response)\u001b[0m\n\u001b[1;32m    240\u001b[0m                 \u001b[0malert_text\u001b[0m \u001b[0;34m=\u001b[0m \u001b[0mvalue\u001b[0m\u001b[0;34m[\u001b[0m\u001b[0;34m'alert'\u001b[0m\u001b[0;34m]\u001b[0m\u001b[0;34m.\u001b[0m\u001b[0mget\u001b[0m\u001b[0;34m(\u001b[0m\u001b[0;34m'text'\u001b[0m\u001b[0;34m)\u001b[0m\u001b[0;34m\u001b[0m\u001b[0m\n\u001b[1;32m    241\u001b[0m             \u001b[0;32mraise\u001b[0m \u001b[0mexception_class\u001b[0m\u001b[0;34m(\u001b[0m\u001b[0mmessage\u001b[0m\u001b[0;34m,\u001b[0m \u001b[0mscreen\u001b[0m\u001b[0;34m,\u001b[0m \u001b[0mstacktrace\u001b[0m\u001b[0;34m,\u001b[0m \u001b[0malert_text\u001b[0m\u001b[0;34m)\u001b[0m\u001b[0;34m\u001b[0m\u001b[0m\n\u001b[0;32m--> 242\u001b[0;31m         \u001b[0;32mraise\u001b[0m \u001b[0mexception_class\u001b[0m\u001b[0;34m(\u001b[0m\u001b[0mmessage\u001b[0m\u001b[0;34m,\u001b[0m \u001b[0mscreen\u001b[0m\u001b[0;34m,\u001b[0m \u001b[0mstacktrace\u001b[0m\u001b[0;34m)\u001b[0m\u001b[0;34m\u001b[0m\u001b[0m\n\u001b[0m\u001b[1;32m    243\u001b[0m \u001b[0;34m\u001b[0m\u001b[0m\n\u001b[1;32m    244\u001b[0m     \u001b[0;32mdef\u001b[0m \u001b[0m_value_or_default\u001b[0m\u001b[0;34m(\u001b[0m\u001b[0mself\u001b[0m\u001b[0;34m,\u001b[0m \u001b[0mobj\u001b[0m\u001b[0;34m,\u001b[0m \u001b[0mkey\u001b[0m\u001b[0;34m,\u001b[0m \u001b[0mdefault\u001b[0m\u001b[0;34m)\u001b[0m\u001b[0;34m:\u001b[0m\u001b[0;34m\u001b[0m\u001b[0m\n",
      "\u001b[0;31mWebDriverException\u001b[0m: Message: unknown error: Element <span>...</span> is not clickable at point (94, 858). Other element would receive the click: <span>...</span>\n  (Session info: chrome=65.0.3325.181)\n  (Driver info: chromedriver=2.37.544337 (8c0344a12e552148c185f7d5117db1f28d6c9e85),platform=Mac OS X 10.13.4 x86_64)\n"
     ]
    }
   ],
   "source": [
    "#Click \"Read more about the space\" and Select remaining description\n",
    "\n",
    "readmoreaboutspace = driver.find_element_by_xpath('//*[@id=\"details\"]/div/div[2]/div/div[2]/div/button/div/div[1]/span')\n",
    "readmoreaboutspace.click()\n",
    "some_html = driver.find_element_by_xpath('//html').get_attribute('innerHTML');\n",
    "soup = BeautifulSoup(some_html, 'html.parser')\n",
    "\n",
    "\n",
    "\n",
    "#for line in soup.findAll('div', {'class' : '_x01z5ll'}):\n",
    "space_long = []\n",
    "\n",
    "for line in soup.findAll('div', {'class' : '_x01z5ll'}):\n",
    "    line = line.text\n",
    "    space_long.append(line)\n",
    "    \n",
    "space_long[:] = [\";\".join(space_long[:])]\n",
    "\n",
    "listing_info['space_long'] = space_long[0]\n",
    "listing_info"
   ]
  },
  {
   "cell_type": "code",
   "execution_count": 146,
   "metadata": {},
   "outputs": [
    {
     "data": {
      "text/plain": [
       "{'id': '15776053',\n",
       " 'title': 'Stunning Views - Queen Anne apt with Free Parking - Apartments for Rent in Seattle, Washington, United States',\n",
       " 'prop_type': 'Entire apartment',\n",
       " 'main_city': 'Seattle',\n",
       " 'guests_num': '3 guests',\n",
       " 'bedroom_num': '1 bedroom',\n",
       " 'bed_num': '2 beds',\n",
       " 'bath_num': '1 bath',\n",
       " 'baseprice': 72,\n",
       " 'review': 152,\n",
       " 'amenities': 'Wifi;Cable TV;Dryer;Laptop friendly workspace;Washer;TV;Iron;Essentials;Heating;Hot water;Pack ’n Play/travel crib;Free parking on premises;Single level home;Kitchen;Coffee maker;Cooking basics;Dishes and silverware;Microwave;Refrigerator;Oven;Stove;Keypad;Private entrance;Hangers;Hair dryer;Shampoo;Garden or backyard;Smoke detector;Fire extinguisher;Carbon monoxide detector;First aid kit',\n",
       " 'rules': 'No smoking;Not suitable for pets;No parties or events;Check-in time is 3PM - 2AM (next day);Check out by 11AM;Self check-in with keypad;This is Karl’s place.;Arlene helps host.'}"
      ]
     },
     "execution_count": 146,
     "metadata": {},
     "output_type": "execute_result"
    }
   ],
   "source": [
    "#Select house rules\n",
    "\n",
    "rules = []\n",
    "\n",
    "for line in soup.findAll('div', {'class' : 'col-sm-12'}):\n",
    "    line = line.text\n",
    "    rules.append(line)\n",
    "    \n",
    "rules[:] = [\";\".join(rules[:])]\n",
    "\n",
    "listing_info['rules'] = rules[0]\n",
    "\n",
    "listing_info\n"
   ]
  },
  {
   "cell_type": "code",
   "execution_count": 124,
   "metadata": {},
   "outputs": [
    {
     "data": {
      "text/plain": [
       "[<div class=\"_m7iebup\">Seattle</div>,\n",
       " <div class=\"_m7iebup\">Free parking on premises</div>,\n",
       " <div class=\"_m7iebup\">Kitchen</div>,\n",
       " <div class=\"_m7iebup\">Wifi</div>,\n",
       " <div class=\"_m7iebup\">Cable TV</div>,\n",
       " <div class=\"_m7iebup\">Dryer</div>,\n",
       " <div class=\"_m7iebup\">Laptop friendly workspace</div>,\n",
       " <div class=\"_m7iebup\"><span>Strict – free cancellation within 48 hours of booking</span></div>,\n",
       " <div class=\"_m7iebup\" dir=\"ltr\">Cancel within 48 hours of booking and 14 days before check-in to get a full refund. Cancel up to 7 days before check in and get a …<button aria-busy=\"false\" aria-disabled=\"false\" class=\"_b82bweu\" type=\"button\"><span>Read more</span></button></div>,\n",
       " <div class=\"_m7iebup\" dir=\"ltr\">Great host! Wonderful view and convenient location.</div>,\n",
       " <div class=\"_m7iebup\" dir=\"ltr\">Great view, amazing hospitality, super fast response.. There is nothing I can ask more. Thanm you for hosting us for the last 2 nights. It was amazing :)</div>,\n",
       " <div class=\"_m7iebup\" dir=\"ltr\">Another great stay. Love this little vintage gem!</div>,\n",
       " <div class=\"_m7iebup\" dir=\"ltr\">Absolutely above and beyond fantastic hosts. Beautiful space and view with snacks, drinks, coffee, and plenty of local suggestions. Friendly and helpful. Couldn't recommend more.</div>,\n",
       " <div class=\"_m7iebup\" dir=\"ltr\">The place is very quite and has a beautiful view. It is easy to Uber or Lyft to downtown and does not cost much. The host is very helpful and friendly. They provide me with some travel advice in Seattle, which is really helpful. Don’t miss this wonderful place!</div>,\n",
       " <div class=\"_m7iebup\" dir=\"ltr\">One of the best places I have ever stayed. The place was extremely clean and so many thoughtful touches, like snacks, wine, beer and even change if you want to take the bus! Arlene was very responsive with giving tips and recommendations for places to eat and see. Excellent locat…<button aria-busy=\"false\" aria-disabled=\"false\" class=\"_b82bweu\" type=\"button\"><span>Read more</span></button></div>,\n",
       " <div class=\"_m7iebup\" dir=\"ltr\">This place is a hidden gem. Everything is so cozy and made me feel right at home. The communication was quick and excellent. We had no problems with anything. Internet is fast and the entire vibe of the area is just immaculate. Thank you so much for making this one of the greates…<button aria-busy=\"false\" aria-disabled=\"false\" class=\"_b82bweu\" type=\"button\"><span>Read more</span></button></div>,\n",
       " <div class=\"_m7iebup\"><span>Joined in November 2016</span></div>,\n",
       " <div class=\"_m7iebup\"><div class=\"_qtix31\"><div class=\"_ni9axhe\"><div style=\"margin-right: 8px;\"><span aria-hidden=\"true\" class=\"_1r3plqb\">󰀄</span></div></div><div class=\"_ni9axhe\">152 Reviews</div></div></div>]"
      ]
     },
     "execution_count": 124,
     "metadata": {},
     "output_type": "execute_result"
    }
   ],
   "source": [
    "#Select Cancellation policy\n",
    "\n",
    "cancel = soup.findAll('div', {'class' : '_m7iebup'})\n",
    "\n",
    "#cancel = cancel.text.split()\n",
    "\n",
    "cancel\n",
    "\n",
    "#listing_info['review'] = int(review[0])\n",
    "\n",
    "#listing_info"
   ]
  },
  {
   "cell_type": "code",
   "execution_count": 114,
   "metadata": {},
   "outputs": [],
   "source": [
    "#Select the neighborhood"
   ]
  },
  {
   "cell_type": "code",
   "execution_count": 115,
   "metadata": {},
   "outputs": [],
   "source": [
    "line = soup.findAll('span', {'class' : '_y8ard79'})[0]"
   ]
  },
  {
   "cell_type": "code",
   "execution_count": 116,
   "metadata": {},
   "outputs": [
    {
     "data": {
      "text/plain": [
       "'3 guests'"
      ]
     },
     "execution_count": 116,
     "metadata": {},
     "output_type": "execute_result"
    }
   ],
   "source": [
    "line.text"
   ]
  },
  {
   "cell_type": "code",
   "execution_count": 117,
   "metadata": {},
   "outputs": [
    {
     "ename": "AttributeError",
     "evalue": "'dict' object has no attribute 'title'",
     "output_type": "error",
     "traceback": [
      "\u001b[0;31m---------------------------------------------------------------------------\u001b[0m",
      "\u001b[0;31mAttributeError\u001b[0m                            Traceback (most recent call last)",
      "\u001b[0;32m<ipython-input-117-c99dd8bddee9>\u001b[0m in \u001b[0;36m<module>\u001b[0;34m()\u001b[0m\n\u001b[1;32m      1\u001b[0m \u001b[0msave_data\u001b[0m \u001b[0;34m=\u001b[0m \u001b[0;34m{\u001b[0m\u001b[0;34m}\u001b[0m\u001b[0;34m\u001b[0m\u001b[0m\n\u001b[0;32m----> 2\u001b[0;31m \u001b[0msave_data\u001b[0m\u001b[0;34m.\u001b[0m\u001b[0mtitle\u001b[0m\u001b[0;34m=\u001b[0m\u001b[0mtitle\u001b[0m\u001b[0;34m\u001b[0m\u001b[0m\n\u001b[0m",
      "\u001b[0;31mAttributeError\u001b[0m: 'dict' object has no attribute 'title'"
     ]
    }
   ],
   "source": [
    "save_data = {}\n",
    "save_data.title=title\n"
   ]
  },
  {
   "cell_type": "code",
   "execution_count": null,
   "metadata": {},
   "outputs": [],
   "source": []
  },
  {
   "cell_type": "code",
   "execution_count": null,
   "metadata": {},
   "outputs": [],
   "source": [
    "# chromedriver = \"/Users/iancwang/Downloads/chromedriver\" # path to the chromedriver executable\n",
    "# os.environ[\"webdriver.chrome.driver\"] = chromedriver\n",
    "\n",
    "# driver = webdriver.Chrome(chromedriver)\n",
    "\n",
    "# url = 'https://www.airbnb.com/rooms/15776053?location=Seattle%2C%20WA%2C%20United%20States&s=kN_OgJN3'\n",
    "\n",
    "# driver.get(url)"
   ]
  },
  {
   "cell_type": "code",
   "execution_count": null,
   "metadata": {},
   "outputs": [],
   "source": [
    "# parse listing ID in URL to use as html file name\n",
    "\n",
    "# urlid= re.findall('[/]\\d*', url)\n",
    "# urlid= urlid[3]\n",
    "# urlid=urlid.strip('/')"
   ]
  },
  {
   "cell_type": "code",
   "execution_count": null,
   "metadata": {},
   "outputs": [],
   "source": [
    "#Create file for amenities:\n",
    "\n",
    "# f = open('listing{}.txt'.format(urlid),'w')\n",
    "# f.write(soup.text)\n",
    "# f.close()"
   ]
  },
  {
   "cell_type": "code",
   "execution_count": null,
   "metadata": {},
   "outputs": [],
   "source": [
    "f = open('{}.txt'.format(urlid),'r')\n",
    "\n",
    "soup = BeautifulSoup(f,\"lxml\")"
   ]
  },
  {
   "cell_type": "code",
   "execution_count": null,
   "metadata": {},
   "outputs": [],
   "source": [
    "print(soup.prettify())"
   ]
  },
  {
   "cell_type": "code",
   "execution_count": null,
   "metadata": {},
   "outputs": [],
   "source": [
    "soup.body.findAll(text='Shampoo')"
   ]
  },
  {
   "cell_type": "code",
   "execution_count": null,
   "metadata": {},
   "outputs": [],
   "source": [
    "print(soup.find('title'))"
   ]
  },
  {
   "cell_type": "code",
   "execution_count": null,
   "metadata": {},
   "outputs": [],
   "source": [
    "f.read().find('Shampoo')"
   ]
  },
  {
   "cell_type": "code",
   "execution_count": null,
   "metadata": {},
   "outputs": [],
   "source": [
    "price = search_result.find('span', 'data-pricerate').find('data-reactid').get(int)\n"
   ]
  },
  {
   "cell_type": "code",
   "execution_count": null,
   "metadata": {},
   "outputs": [],
   "source": []
  }
 ],
 "metadata": {
  "kernelspec": {
   "display_name": "Python 3",
   "language": "python",
   "name": "python3"
  },
  "language_info": {
   "codemirror_mode": {
    "name": "ipython",
    "version": 3
   },
   "file_extension": ".py",
   "mimetype": "text/x-python",
   "name": "python",
   "nbconvert_exporter": "python",
   "pygments_lexer": "ipython3",
   "version": "3.6.5"
  }
 },
 "nbformat": 4,
 "nbformat_minor": 2
}
