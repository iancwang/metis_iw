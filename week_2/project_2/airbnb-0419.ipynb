{
 "cells": [
  {
   "cell_type": "code",
   "execution_count": 3,
   "metadata": {},
   "outputs": [],
   "source": [
    "from __future__ import print_function, division\n",
    "import requests\n",
    "from bs4 import BeautifulSoup\n",
    "from selenium import webdriver\n",
    "from selenium.webdriver.common.keys import Keys\n",
    "import time\n",
    "import os\n",
    "import re"
   ]
  },
  {
   "cell_type": "code",
   "execution_count": 4,
   "metadata": {},
   "outputs": [],
   "source": [
    "chromedriver = \"/Users/iancwang/Downloads/chromedriver\" # path to the chromedriver executable\n",
    "os.environ[\"webdriver.chrome.driver\"] = chromedriver\n",
    "\n",
    "driver = webdriver.Chrome(chromedriver)\n",
    "\n",
    "url = 'https://www.airbnb.com/rooms/15776053'\n",
    "\n",
    "# https://www.airbnb.com/rooms/15776053\n",
    "# https://www.airbnb.com/rooms/8302173\n",
    "    \n",
    "driver.get(url)"
   ]
  },
  {
   "cell_type": "code",
   "execution_count": 5,
   "metadata": {},
   "outputs": [],
   "source": [
    "amenities = driver.find_element_by_xpath('//*[@id=\"room\"]/div[3]/div/div[2]/div[1]/div/div/div[4]/div/div/div/section/div[3]/div/button/span')\n",
    "amenities.click()\n",
    "some_html = driver.find_element_by_xpath('//html').get_attribute('innerHTML');\n",
    "soup = BeautifulSoup(some_html, 'html.parser')\n",
    "#print(soup.prettify())"
   ]
  },
  {
   "cell_type": "code",
   "execution_count": 6,
   "metadata": {},
   "outputs": [],
   "source": [
    "#parse listing ID in URL to use as html file name\n",
    "\n",
    "urlid= re.findall('[/]\\d*', url)\n",
    "urlid= urlid[3]\n",
    "urlid=urlid.strip('/')"
   ]
  },
  {
   "cell_type": "code",
   "execution_count": 7,
   "metadata": {},
   "outputs": [],
   "source": [
    "#Create file for using listing ID:\n",
    "\n",
    "f = open('{}.txt'.format(urlid),'w')\n",
    "f.write(some_html)\n",
    "f.close()"
   ]
  },
  {
   "cell_type": "code",
   "execution_count": 8,
   "metadata": {},
   "outputs": [],
   "source": [
    "#Create Dictionary\n",
    "\n",
    "listing_info = {}\n",
    "key_id = ('{}'.format(urlid))\n"
   ]
  },
  {
   "cell_type": "code",
   "execution_count": 9,
   "metadata": {},
   "outputs": [],
   "source": [
    "#Insert id\n",
    "\n",
    "listing_info['id'] = key_id"
   ]
  },
  {
   "cell_type": "code",
   "execution_count": 10,
   "metadata": {},
   "outputs": [],
   "source": [
    "#Select Listing Title\n",
    "\n",
    "title = soup.find('title').text\n",
    "\n",
    "listing_info['title'] = title"
   ]
  },
  {
   "cell_type": "code",
   "execution_count": 11,
   "metadata": {},
   "outputs": [],
   "source": [
    "#Select property_type\n",
    "\n",
    "property_type = soup.find('span', {'class' : '_bt56vz6'}) \n",
    "\n",
    "for i in property_type.descendants:\n",
    "\n",
    "    i = i\n",
    "    \n",
    "listing_info['prop_type'] = i"
   ]
  },
  {
   "cell_type": "code",
   "execution_count": 12,
   "metadata": {},
   "outputs": [],
   "source": [
    "#Select main city\n",
    "\n",
    "maincity = soup.find('div', {'class' : '_m7iebup'})\n",
    "\n",
    "for i in maincity.descendants:\n",
    "    \n",
    "    i = i\n",
    "    \n",
    "listing_info['main_city'] = i"
   ]
  },
  {
   "cell_type": "code",
   "execution_count": 13,
   "metadata": {},
   "outputs": [],
   "source": [
    "#Select Number of guests, bedroom, bed and bath\n",
    "\n",
    "speclist = []\n",
    "for line in soup.findAll('span', {'class' : '_y8ard79'}):\n",
    "    value = line.text\n",
    "    speclist.append(value)\n",
    "\n",
    "guests_num = speclist[0]\n",
    "listing_info['guests_num'] = guests_num\n",
    "\n",
    "\n",
    "bedroom_num = speclist[1]\n",
    "listing_info['bedroom_num'] = bedroom_num\n",
    "\n",
    "\n",
    "bed_num = speclist[2]\n",
    "listing_info['bed_num'] = bed_num\n",
    "\n",
    "\n",
    "bath_num = speclist[3]\n",
    "listing_info['bath_num'] = bath_num\n"
   ]
  },
  {
   "cell_type": "code",
   "execution_count": 14,
   "metadata": {},
   "outputs": [],
   "source": [
    "#Select base $\n",
    "\n",
    "baseprice = soup.find('span', {'class' : '_10cqp947'})\n",
    "\n",
    "baseprice = baseprice.text.split('$')\n",
    "\n",
    "listing_info['baseprice'] = int(baseprice[1])\n"
   ]
  },
  {
   "cell_type": "code",
   "execution_count": 15,
   "metadata": {},
   "outputs": [],
   "source": [
    "#Select number of reviews\n",
    "\n",
    "review = soup.find('span', {'class' : '_1vbkutid'})\n",
    "\n",
    "review = review.text.split()\n",
    "\n",
    "listing_info['review'] = int(review[0])\n"
   ]
  },
  {
   "cell_type": "code",
   "execution_count": 16,
   "metadata": {},
   "outputs": [],
   "source": [
    "#Select Amenities\n",
    "\n",
    "amenitieslst = []\n",
    "for line in soup.findAll('div', {'class' : '_rotqmn2'}):\n",
    "    line = line.text\n",
    "    amenitieslst.append(line)\n",
    "    \n",
    "del amenitieslst[0]\n",
    "\n",
    "amenitieslst[:] = [\";\".join(amenitieslst[:])]\n",
    "\n",
    "listing_info['amenities'] = amenitieslst[0]\n",
    "\n",
    "#close the amenities listing\n",
    "\n",
    "close_page = driver.find_element_by_xpath('/html/body/div[13]/div/div/div/div/div/div/div/section/div/div/button')\n",
    "close_page.click()\n"
   ]
  },
  {
   "cell_type": "code",
   "execution_count": 30,
   "metadata": {},
   "outputs": [],
   "source": [
    "#Select summary\n",
    "\n",
    "summarylst = []\n",
    "summarylst_new = []\n",
    "for line in soup.findAll('p', {'class' : '_6z3til'}):\n",
    "    line = line.text\n",
    "    summarylst.append(line)\n",
    "\n",
    "summarylst[:] = [\";\".join(summarylst[:])]\n",
    "\n",
    "listing_info['summary'] = summarylst[0]\n"
   ]
  },
  {
   "cell_type": "code",
   "execution_count": 34,
   "metadata": {},
   "outputs": [],
   "source": [
    "#Click \"Read more about the space\" and Select remaining description\n",
    "\n",
    "readmoreaboutspace = driver.find_element_by_xpath('//*[@id=\"details\"]/div/div[2]/div/div[2]/div/button/div/div[1]/span')\n",
    "readmoreaboutspace.click()\n",
    "some_html = driver.find_element_by_xpath('//html').get_attribute('innerHTML');\n",
    "soup = BeautifulSoup(some_html, 'html.parser')\n",
    "\n",
    "#for line in soup.findAll('div', {'class' : '_x01z5ll'}):\n",
    "space_long = []\n",
    "\n",
    "for line in soup.findAll('div', {'class' : '_x01z5ll'}):\n",
    "    line = line.text\n",
    "    space_long.append(line)\n",
    "    \n",
    "space_long[:] = [\";\".join(space_long[:])]\n",
    "\n",
    "listing_info['space_long'] = space_long[0]\n"
   ]
  },
  {
   "cell_type": "code",
   "execution_count": 44,
   "metadata": {},
   "outputs": [],
   "source": [
    "#Select house rules\n",
    "\n",
    "rules = []\n",
    "\n",
    "for line in soup.find_all('div', {'class' : 'col-sm-12'}):\n",
    "    line = line.text\n",
    "    rules.append(line)\n",
    "    \n",
    "rules[:] = [\";\".join(rules[:])]\n",
    "\n",
    "listing_info['rules'] = rules[0]\n"
   ]
  },
  {
   "cell_type": "code",
   "execution_count": 57,
   "metadata": {},
   "outputs": [
    {
     "ename": "AttributeError",
     "evalue": "ResultSet object has no attribute 'findChildren'. You're probably treating a list of items like a single item. Did you call find_all() when you meant to call find()?",
     "output_type": "error",
     "traceback": [
      "\u001b[0;31m---------------------------------------------------------------------------\u001b[0m",
      "\u001b[0;31mAttributeError\u001b[0m                            Traceback (most recent call last)",
      "\u001b[0;32m<ipython-input-57-34ff12017c52>\u001b[0m in \u001b[0;36m<module>\u001b[0;34m()\u001b[0m\n\u001b[1;32m      4\u001b[0m \u001b[0;34m\u001b[0m\u001b[0m\n\u001b[1;32m      5\u001b[0m \u001b[0ma\u001b[0m \u001b[0;34m=\u001b[0m \u001b[0msoup\u001b[0m\u001b[0;34m.\u001b[0m\u001b[0mfindAll\u001b[0m\u001b[0;34m(\u001b[0m\u001b[0;34m'div'\u001b[0m\u001b[0;34m,\u001b[0m \u001b[0;34m{\u001b[0m\u001b[0;34m'class'\u001b[0m \u001b[0;34m:\u001b[0m \u001b[0;34m'_ew0cqip'\u001b[0m\u001b[0;34m}\u001b[0m\u001b[0;34m)\u001b[0m\u001b[0;34m\u001b[0m\u001b[0m\n\u001b[0;32m----> 6\u001b[0;31m \u001b[0;32mfor\u001b[0m \u001b[0mchild\u001b[0m \u001b[0;32min\u001b[0m \u001b[0ma\u001b[0m\u001b[0;34m.\u001b[0m\u001b[0mfindChildren\u001b[0m\u001b[0;34m(\u001b[0m\u001b[0;34m)\u001b[0m\u001b[0;34m:\u001b[0m\u001b[0;34m\u001b[0m\u001b[0m\n\u001b[0m\u001b[1;32m      7\u001b[0m     \u001b[0mprint\u001b[0m\u001b[0;34m(\u001b[0m\u001b[0mchild\u001b[0m\u001b[0;34m)\u001b[0m\u001b[0;34m\u001b[0m\u001b[0m\n\u001b[1;32m      8\u001b[0m \u001b[0;34m\u001b[0m\u001b[0m\n",
      "\u001b[0;32m/anaconda3/lib/python3.6/site-packages/bs4/element.py\u001b[0m in \u001b[0;36m__getattr__\u001b[0;34m(self, key)\u001b[0m\n\u001b[1;32m   1805\u001b[0m     \u001b[0;32mdef\u001b[0m \u001b[0m__getattr__\u001b[0m\u001b[0;34m(\u001b[0m\u001b[0mself\u001b[0m\u001b[0;34m,\u001b[0m \u001b[0mkey\u001b[0m\u001b[0;34m)\u001b[0m\u001b[0;34m:\u001b[0m\u001b[0;34m\u001b[0m\u001b[0m\n\u001b[1;32m   1806\u001b[0m         raise AttributeError(\n\u001b[0;32m-> 1807\u001b[0;31m             \u001b[0;34m\"ResultSet object has no attribute '%s'. You're probably treating a list of items like a single item. Did you call find_all() when you meant to call find()?\"\u001b[0m \u001b[0;34m%\u001b[0m \u001b[0mkey\u001b[0m\u001b[0;34m\u001b[0m\u001b[0m\n\u001b[0m\u001b[1;32m   1808\u001b[0m         )\n",
      "\u001b[0;31mAttributeError\u001b[0m: ResultSet object has no attribute 'findChildren'. You're probably treating a list of items like a single item. Did you call find_all() when you meant to call find()?"
     ]
    }
   ],
   "source": [
    "#Select Cancellation policy\n",
    "\n",
    "#cancel = soup.findAll('div', {'class' : '_ew0cqip'})\n",
    "\n",
    "a = soup.findAll('div', {'class' : '_ew0cqip'})\n",
    "for child in a.findChildren():\n",
    "    print(child)\n",
    "    \n",
    "# for line in soup.findAll('div', {'class' : '_ew0cqip'}):\n",
    "#     line = line.text\n",
    "# #     summarylst.append(line)\n",
    "#     print(line)\n",
    "    \n",
    "#cancel.text\n",
    "\n",
    "#cancel\n",
    "\n",
    "#listing_info['review'] = int(review[0])\n",
    "\n",
    "#listing_info"
   ]
  },
  {
   "cell_type": "code",
   "execution_count": 21,
   "metadata": {},
   "outputs": [],
   "source": [
    "#Select the neighborhood"
   ]
  },
  {
   "cell_type": "code",
   "execution_count": 22,
   "metadata": {},
   "outputs": [],
   "source": [
    "line = soup.findAll('span', {'class' : '_y8ard79'})[0]"
   ]
  },
  {
   "cell_type": "code",
   "execution_count": 23,
   "metadata": {},
   "outputs": [
    {
     "data": {
      "text/plain": [
       "'3 guests'"
      ]
     },
     "execution_count": 23,
     "metadata": {},
     "output_type": "execute_result"
    }
   ],
   "source": [
    "line.text"
   ]
  },
  {
   "cell_type": "code",
   "execution_count": 24,
   "metadata": {},
   "outputs": [
    {
     "ename": "AttributeError",
     "evalue": "'dict' object has no attribute 'title'",
     "output_type": "error",
     "traceback": [
      "\u001b[0;31m---------------------------------------------------------------------------\u001b[0m",
      "\u001b[0;31mAttributeError\u001b[0m                            Traceback (most recent call last)",
      "\u001b[0;32m<ipython-input-24-c99dd8bddee9>\u001b[0m in \u001b[0;36m<module>\u001b[0;34m()\u001b[0m\n\u001b[1;32m      1\u001b[0m \u001b[0msave_data\u001b[0m \u001b[0;34m=\u001b[0m \u001b[0;34m{\u001b[0m\u001b[0;34m}\u001b[0m\u001b[0;34m\u001b[0m\u001b[0m\n\u001b[0;32m----> 2\u001b[0;31m \u001b[0msave_data\u001b[0m\u001b[0;34m.\u001b[0m\u001b[0mtitle\u001b[0m\u001b[0;34m=\u001b[0m\u001b[0mtitle\u001b[0m\u001b[0;34m\u001b[0m\u001b[0m\n\u001b[0m",
      "\u001b[0;31mAttributeError\u001b[0m: 'dict' object has no attribute 'title'"
     ]
    }
   ],
   "source": [
    "save_data = {}\n",
    "save_data.title=title\n"
   ]
  },
  {
   "cell_type": "code",
   "execution_count": null,
   "metadata": {},
   "outputs": [],
   "source": []
  },
  {
   "cell_type": "code",
   "execution_count": null,
   "metadata": {},
   "outputs": [],
   "source": [
    "# chromedriver = \"/Users/iancwang/Downloads/chromedriver\" # path to the chromedriver executable\n",
    "# os.environ[\"webdriver.chrome.driver\"] = chromedriver\n",
    "\n",
    "# driver = webdriver.Chrome(chromedriver)\n",
    "\n",
    "# url = 'https://www.airbnb.com/rooms/15776053?location=Seattle%2C%20WA%2C%20United%20States&s=kN_OgJN3'\n",
    "\n",
    "# driver.get(url)"
   ]
  },
  {
   "cell_type": "code",
   "execution_count": null,
   "metadata": {},
   "outputs": [],
   "source": [
    "# parse listing ID in URL to use as html file name\n",
    "\n",
    "# urlid= re.findall('[/]\\d*', url)\n",
    "# urlid= urlid[3]\n",
    "# urlid=urlid.strip('/')"
   ]
  },
  {
   "cell_type": "code",
   "execution_count": null,
   "metadata": {},
   "outputs": [],
   "source": [
    "#Create file for amenities:\n",
    "\n",
    "# f = open('listing{}.txt'.format(urlid),'w')\n",
    "# f.write(soup.text)\n",
    "# f.close()"
   ]
  },
  {
   "cell_type": "code",
   "execution_count": null,
   "metadata": {},
   "outputs": [],
   "source": [
    "f = open('{}.txt'.format(urlid),'r')\n",
    "\n",
    "soup = BeautifulSoup(f,\"lxml\")"
   ]
  },
  {
   "cell_type": "code",
   "execution_count": null,
   "metadata": {},
   "outputs": [],
   "source": [
    "print(soup.prettify())"
   ]
  },
  {
   "cell_type": "code",
   "execution_count": null,
   "metadata": {},
   "outputs": [],
   "source": [
    "soup.body.findAll(text='Shampoo')"
   ]
  },
  {
   "cell_type": "code",
   "execution_count": null,
   "metadata": {},
   "outputs": [],
   "source": [
    "print(soup.find('title'))"
   ]
  },
  {
   "cell_type": "code",
   "execution_count": null,
   "metadata": {},
   "outputs": [],
   "source": [
    "f.read().find('Shampoo')"
   ]
  },
  {
   "cell_type": "code",
   "execution_count": null,
   "metadata": {},
   "outputs": [],
   "source": [
    "price = search_result.find('span', 'data-pricerate').find('data-reactid').get(int)\n"
   ]
  },
  {
   "cell_type": "code",
   "execution_count": null,
   "metadata": {},
   "outputs": [],
   "source": []
  }
 ],
 "metadata": {
  "kernelspec": {
   "display_name": "Python 3",
   "language": "python",
   "name": "python3"
  },
  "language_info": {
   "codemirror_mode": {
    "name": "ipython",
    "version": 3
   },
   "file_extension": ".py",
   "mimetype": "text/x-python",
   "name": "python",
   "nbconvert_exporter": "python",
   "pygments_lexer": "ipython3",
   "version": "3.6.5"
  }
 },
 "nbformat": 4,
 "nbformat_minor": 2
}
